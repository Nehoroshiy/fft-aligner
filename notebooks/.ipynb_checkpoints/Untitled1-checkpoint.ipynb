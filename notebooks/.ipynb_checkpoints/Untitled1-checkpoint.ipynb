{
 "metadata": {
  "name": "",
  "signature": "sha256:977d5e7e86673fd4412fd1725cb09a8e1ee5dfcbc42541f25a3b24f0abacca4d"
 },
 "nbformat": 3,
 "nbformat_minor": 0,
 "worksheets": []
}