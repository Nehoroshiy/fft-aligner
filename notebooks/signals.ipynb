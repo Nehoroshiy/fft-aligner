{
 "metadata": {
  "name": "",
  "signature": "sha256:f0b3592cb854cc605d6f71a9bb0cc951bc3c79d462b56a56aa12a9b34adb6164"
 },
 "nbformat": 3,
 "nbformat_minor": 0,
 "worksheets": [
  {
   "cells": [
    {
     "cell_type": "code",
     "collapsed": false,
     "input": [
      "import numpy as np\n",
      "from numpy.fft import fft, ifft\n",
      "np.set_printoptions(suppress=True, linewidth=120)\n",
      "from scipy import signal"
     ],
     "language": "python",
     "metadata": {},
     "outputs": [],
     "prompt_number": 1
    },
    {
     "cell_type": "code",
     "collapsed": false,
     "input": [
      "signal_1 = np.random.randn(100) * 0.1 + np.sin(np.linspace(0, 10, 100))\n",
      "delta = 1.5"
     ],
     "language": "python",
     "metadata": {},
     "outputs": [],
     "prompt_number": 4
    },
    {
     "cell_type": "code",
     "collapsed": false,
     "input": [
      "signal_2 = np.random.randn(100) * 0.1 + np.sin(np.linspace(0 - delta, 10 - delta, 100))"
     ],
     "language": "python",
     "metadata": {},
     "outputs": [],
     "prompt_number": 12
    },
    {
     "cell_type": "code",
     "collapsed": false,
     "input": [],
     "language": "python",
     "metadata": {},
     "outputs": [],
     "prompt_number": 12
    },
    {
     "cell_type": "code",
     "collapsed": false,
     "input": [],
     "language": "python",
     "metadata": {},
     "outputs": [],
     "prompt_number": 12
    },
    {
     "cell_type": "code",
     "collapsed": false,
     "input": [
      "# returns smallest power of 2 that is greater or equal than v\n",
      "def power_2_bound(v):\n",
      "    v -= 1\n",
      "    v |= v >> 1\n",
      "    v |= v >> 2\n",
      "    v |= v >> 4\n",
      "    v |= v >> 8\n",
      "    v |= v >> 16\n",
      "    return v + 1"
     ],
     "language": "python",
     "metadata": {},
     "outputs": [],
     "prompt_number": 13
    },
    {
     "cell_type": "code",
     "collapsed": false,
     "input": [
      "N = signal_1.size\n",
      "M = signal_2.size"
     ],
     "language": "python",
     "metadata": {},
     "outputs": [],
     "prompt_number": 14
    },
    {
     "cell_type": "code",
     "collapsed": false,
     "input": [
      "#N2 = 2*power_2_bound(N)\n",
      "N2 = N*2\n",
      "#N2 = N"
     ],
     "language": "python",
     "metadata": {},
     "outputs": [],
     "prompt_number": 20
    },
    {
     "cell_type": "code",
     "collapsed": false,
     "input": [
      "s1data = np.zeros(N2)\n",
      "s2data = np.zeros(N2)\n",
      "\n",
      "s1data[:N] = signal_1[:].copy()\n",
      "s2data[:M] = signal_2[:].copy()\n",
      "print s1data\n",
      "print s2data\n",
      "print signal_2"
     ],
     "language": "python",
     "metadata": {},
     "outputs": [
      {
       "output_type": "stream",
       "stream": "stdout",
       "text": [
        "[-0.05384345  0.1442113   0.19854277  0.39114516  0.21296442  0.74565306  0.64101352  0.5444852   0.58547846  0.63752366\n",
        "  0.93188751  1.04521019  0.9478642   0.92538543  0.93233982  1.17517446  0.81751227  0.9475133   1.08623705  0.8201323\n",
        "  0.91183808  0.71254543  0.89480343  0.82233742  0.70148887  0.47218556  0.41801743  0.51842245  0.2329801   0.26099712\n",
        "  0.29089724 -0.14121541 -0.12004519 -0.13187993 -0.2051548  -0.32007759 -0.45947619 -0.59260645 -0.54989479 -0.59009995\n",
        " -0.70405408 -0.85218347 -0.80505581 -0.89948671 -0.92360777 -0.87268378 -1.17707233 -0.93261161 -1.01530254 -0.91995486\n",
        " -1.0589926  -0.94481855 -0.83434341 -0.77700157 -0.6251082  -0.70002085 -0.60750637 -0.53564776 -0.4617942  -0.21553272\n",
        " -0.12309748 -0.11602267 -0.11577537 -0.02051765  0.23742214  0.34009494  0.40294668  0.43236414  0.42550276  0.61722591\n",
        "  0.80615317  0.71184479  0.9755347   0.81523592  1.04231045  0.96753025  0.94649102  1.04809562  0.95178472  1.00074717\n",
        "  0.98838455  0.86752497  0.75786948  0.8173622   0.80962562  0.72653449  0.79088468  0.54964912  0.68867941  0.53838857\n",
        "  0.21877295  0.19432905  0.2484643   0.31097345 -0.03629827 -0.22855224 -0.34294789 -0.34695934 -0.49735433 -0.4323563\n",
        "  0.          0.          0.          0.          0.          0.          0.          0.          0.          0.          0.\n",
        "  0.          0.          0.          0.          0.          0.          0.          0.          0.          0.          0.\n",
        "  0.          0.          0.          0.          0.          0.          0.          0.          0.          0.          0.\n",
        "  0.          0.          0.          0.          0.          0.          0.          0.          0.          0.          0.\n",
        "  0.          0.          0.          0.          0.          0.          0.          0.          0.          0.          0.\n",
        "  0.          0.          0.          0.          0.          0.          0.          0.          0.          0.          0.\n",
        "  0.          0.          0.          0.          0.          0.          0.          0.          0.          0.          0.\n",
        "  0.          0.          0.          0.          0.          0.          0.          0.          0.          0.          0.\n",
        "  0.          0.          0.          0.          0.          0.          0.          0.          0.          0.          0.\n",
        "  0.        ]\n",
        "[-1.12294069 -0.87622906 -0.80206675 -0.90166153 -1.05648824 -0.70080989 -0.84537513 -0.96193288 -0.69551285 -0.49437791\n",
        " -0.51651145 -0.42601067 -0.37206912 -0.02894066 -0.23569746  0.20611988  0.18304358  0.09474717  0.24483173  0.34216356\n",
        "  0.66314207  0.6038271   0.55386501  0.6825426   0.72125904  0.81040438  0.79422474  0.96440454  0.98910598  1.00458456\n",
        "  1.01381791  1.02603452  0.93040538  0.98430426  0.96920202  0.89066436  0.8636017   0.83315264  0.6391574   0.53637346\n",
        "  0.62279372  0.65384959  0.29069601  0.15694071  0.2919398  -0.09033091 -0.02514688 -0.17962157 -0.17308412 -0.50053889\n",
        " -0.45785777 -0.48945009 -0.5356614  -0.60177305 -0.8908313  -0.73638918 -0.9017084  -0.92979197 -0.98016617 -0.84971531\n",
        " -0.98593825 -0.87851456 -1.05850945 -1.01330209 -0.78062738 -0.95689539 -0.94363394 -0.97327066 -0.73145339 -0.63267965\n",
        " -0.74076813 -0.53192284 -0.43880595 -0.45682249 -0.18770277 -0.23446317 -0.00889259 -0.18131004  0.04111623  0.2706226\n",
        "  0.26334855  0.31448715  0.60695986  0.37860776  0.67063743  0.53600257  0.95331654  0.89195257  0.77498745  0.87051367\n",
        "  0.89118447  0.97028715  0.9773657   1.00959882  1.0206817   0.93042167  0.97689516  0.91381522  0.83617744  0.95502744\n",
        "  0.          0.          0.          0.          0.          0.          0.          0.          0.          0.          0.\n",
        "  0.          0.          0.          0.          0.          0.          0.          0.          0.          0.          0.\n",
        "  0.          0.          0.          0.          0.          0.          0.          0.          0.          0.          0.\n",
        "  0.          0.          0.          0.          0.          0.          0.          0.          0.          0.          0.\n",
        "  0.          0.          0.          0.          0.          0.          0.          0.          0.          0.          0.\n",
        "  0.          0.          0.          0.          0.          0.          0.          0.          0.          0.          0.\n",
        "  0.          0.          0.          0.          0.          0.          0.          0.          0.          0.          0.\n",
        "  0.          0.          0.          0.          0.          0.          0.          0.          0.          0.          0.\n",
        "  0.          0.          0.          0.          0.          0.          0.          0.          0.          0.          0.\n",
        "  0.        ]\n",
        "[-1.12294069 -0.87622906 -0.80206675 -0.90166153 -1.05648824 -0.70080989 -0.84537513 -0.96193288 -0.69551285 -0.49437791\n",
        " -0.51651145 -0.42601067 -0.37206912 -0.02894066 -0.23569746  0.20611988  0.18304358  0.09474717  0.24483173  0.34216356\n",
        "  0.66314207  0.6038271   0.55386501  0.6825426   0.72125904  0.81040438  0.79422474  0.96440454  0.98910598  1.00458456\n",
        "  1.01381791  1.02603452  0.93040538  0.98430426  0.96920202  0.89066436  0.8636017   0.83315264  0.6391574   0.53637346\n",
        "  0.62279372  0.65384959  0.29069601  0.15694071  0.2919398  -0.09033091 -0.02514688 -0.17962157 -0.17308412 -0.50053889\n",
        " -0.45785777 -0.48945009 -0.5356614  -0.60177305 -0.8908313  -0.73638918 -0.9017084  -0.92979197 -0.98016617 -0.84971531\n",
        " -0.98593825 -0.87851456 -1.05850945 -1.01330209 -0.78062738 -0.95689539 -0.94363394 -0.97327066 -0.73145339 -0.63267965\n",
        " -0.74076813 -0.53192284 -0.43880595 -0.45682249 -0.18770277 -0.23446317 -0.00889259 -0.18131004  0.04111623  0.2706226\n",
        "  0.26334855  0.31448715  0.60695986  0.37860776  0.67063743  0.53600257  0.95331654  0.89195257  0.77498745  0.87051367\n",
        "  0.89118447  0.97028715  0.9773657   1.00959882  1.0206817   0.93042167  0.97689516  0.91381522  0.83617744  0.95502744]\n"
       ]
      }
     ],
     "prompt_number": 21
    },
    {
     "cell_type": "code",
     "collapsed": false,
     "input": [
      "correlation = ifft(conj(fft(s1data))*fft(s2data)).real[:]"
     ],
     "language": "python",
     "metadata": {},
     "outputs": [],
     "prompt_number": 25
    },
    {
     "cell_type": "code",
     "collapsed": false,
     "input": [
      "x = np.linspace(0, 20, 200)\n",
      "\n",
      "plt.plot(x, s1data, '.r')\n",
      "plt.plot(x, s2data, '.b')\n",
      "plt.plot(x, correlation.real, '.g')"
     ],
     "language": "python",
     "metadata": {},
     "outputs": [
      {
       "metadata": {},
       "output_type": "pyout",
       "prompt_number": 26,
       "text": [
        "[<matplotlib.lines.Line2D at 0x1077ca7d0>]"
       ]
      },
      {
       "metadata": {},
       "output_type": "display_data",
       "png": "[encoded data removed]",
       "text": [
        "<matplotlib.figure.Figure at 0x107ca4490>"
       ]
      }
     ],
     "prompt_number": 26
    },
    {
     "cell_type": "code",
     "collapsed": false,
     "input": [
      "print correlation, correlation.size"
     ],
     "language": "python",
     "metadata": {},
     "outputs": [
      {
       "output_type": "stream",
       "stream": "stdout",
       "text": [
        "[-0.          0.0060125  -0.01503798  0.17671564  0.34716809  0.51072495  0.9309821   1.2640659   1.58859763  2.00054311\n",
        "  2.41013331  2.97482017  3.58498151  3.88606642  4.39990945  4.93249638  5.29356314  5.78888878  6.1084915   6.50718498\n",
        "  6.93808951  7.16224649  7.14717162  7.541318    7.69309927  7.75990912  7.92305547  7.84328696  7.89668218  7.92377709\n",
        "  7.99231675  8.09799456  8.33582356  8.17922184  8.09458264  8.00833177  7.99827413  8.14690252  8.07701391  7.86132158\n",
        "  7.46900418  7.09675362  6.63522031  6.47705109  6.28251767  6.01010101  5.55296516  4.81784037  4.41790653  4.04143762\n",
        "  3.47139553  2.95336905  2.49366274  2.04702178  1.53149427  1.09211062  0.48687944 -0.04772493 -0.7236397  -1.08350568\n",
        " -1.34178228 -1.71555352 -2.12615613 -2.87256435 -3.55237143 -4.13094866 -4.61729373 -4.98278687 -5.36711499 -6.05340912\n",
        " -6.52003082 -6.86515985 -7.06835034 -7.28057424 -7.48693303 -7.66923075 -7.67100768 -7.73571586 -8.01628463 -8.15609477\n",
        " -8.31374479 -8.42551184 -8.57327283 -8.55007438 -8.5443605  -8.44397905 -8.57497091 -8.48957221 -8.2320288  -7.98744077\n",
        " -7.64431649 -7.42323762 -7.19557338 -6.97825717 -6.75629494 -6.51672885 -6.21023099 -5.8079445  -5.31720001 -5.02188078\n",
        " -4.50867813 -3.84043827 -3.20770608 -2.5772063  -2.03339135 -1.51019025 -0.96013508 -0.61464334 -0.35241312 -0.07355301] 110\n"
       ]
      }
     ],
     "prompt_number": 212
    },
    {
     "cell_type": "code",
     "collapsed": false,
     "input": [
      "print argmax(correlation)"
     ],
     "language": "python",
     "metadata": {},
     "outputs": [
      {
       "output_type": "stream",
       "stream": "stdout",
       "text": [
        "32\n"
       ]
      }
     ],
     "prompt_number": 213
    },
    {
     "cell_type": "code",
     "collapsed": false,
     "input": [
      "print signal_1[argmax(correlation):]"
     ],
     "language": "python",
     "metadata": {},
     "outputs": [
      {
       "output_type": "stream",
       "stream": "stdout",
       "text": [
        "[ 0.90954873  0.85253573  0.79036943  0.95859747  1.00938459  0.81009442  0.74916389  0.6345701   0.5520151   0.43747397\n",
        "  0.71786243  0.62626326  0.54041292  0.46453716  0.18765042  0.33348036  0.21743524  0.00677578  0.0025745   0.02581936\n",
        "  0.1601079  -0.05559935  0.05077108 -0.23727733 -0.35142775 -0.49137358 -0.24042687 -0.3171267  -0.40632998 -0.36604871\n",
        " -0.68055913 -0.79929207 -0.72771464 -0.8106763  -0.79041792 -0.85928526 -0.96963417 -0.87441029 -0.86073779 -0.71452735\n",
        " -0.96119881 -0.95668619 -0.94064094 -0.84503635 -0.94121987 -1.16023515 -1.01825991 -1.05713    -1.01253255 -0.98169078\n",
        " -0.8911125  -0.9353308  -0.84628493 -1.03274141 -0.87256793 -0.86674087 -0.76325785 -0.68338464 -0.73572412 -0.67861857\n",
        " -0.67741398 -0.67886779 -0.63143244 -0.6394614  -0.40889559 -0.3265336  -0.41851571 -0.11590998]\n"
       ]
      }
     ],
     "prompt_number": 214
    },
    {
     "cell_type": "code",
     "collapsed": false,
     "input": [
      "print signal_2"
     ],
     "language": "python",
     "metadata": {},
     "outputs": [
      {
       "output_type": "stream",
       "stream": "stdout",
       "text": [
        "[ 0.95369196  1.03357194  0.90954873  0.85253573  0.79036943  0.95859747  1.00938459  0.81009442  0.74916389  0.6345701 ]\n"
       ]
      }
     ],
     "prompt_number": 215
    },
    {
     "cell_type": "code",
     "collapsed": false,
     "input": [
      "correlation = np.zeros(N2)\n",
      "for k in xrange(signal_1.size - signal_2.size):\n",
      "    for i in xrange(0, signal_1.size - k, 1):\n",
      "        #print k, i\n",
      "        correlation[k] += signal_1[i + k] * signal_2[k]\n",
      "print correlation"
     ],
     "language": "python",
     "metadata": {},
     "outputs": [
      {
       "ename": "IndexError",
       "evalue": "index out of bounds",
       "output_type": "pyerr",
       "traceback": [
        "\u001b[0;31m---------------------------------------------------------------------------\u001b[0m\n\u001b[0;31mIndexError\u001b[0m                                Traceback (most recent call last)",
        "\u001b[0;32m<ipython-input-225-a2f1da3ea0c9>\u001b[0m in \u001b[0;36m<module>\u001b[0;34m()\u001b[0m\n\u001b[1;32m      3\u001b[0m     \u001b[0;32mfor\u001b[0m \u001b[0mi\u001b[0m \u001b[0;32min\u001b[0m \u001b[0mxrange\u001b[0m\u001b[0;34m(\u001b[0m\u001b[0;36m0\u001b[0m\u001b[0;34m,\u001b[0m \u001b[0msignal_1\u001b[0m\u001b[0;34m.\u001b[0m\u001b[0msize\u001b[0m \u001b[0;34m-\u001b[0m \u001b[0mk\u001b[0m\u001b[0;34m,\u001b[0m \u001b[0;36m1\u001b[0m\u001b[0;34m)\u001b[0m\u001b[0;34m:\u001b[0m\u001b[0;34m\u001b[0m\u001b[0m\n\u001b[1;32m      4\u001b[0m         \u001b[0;31m#print k, i\u001b[0m\u001b[0;34m\u001b[0m\u001b[0;34m\u001b[0m\u001b[0m\n\u001b[0;32m----> 5\u001b[0;31m         \u001b[0mcorrelation\u001b[0m\u001b[0;34m[\u001b[0m\u001b[0mk\u001b[0m\u001b[0;34m]\u001b[0m \u001b[0;34m+=\u001b[0m \u001b[0msignal_1\u001b[0m\u001b[0;34m[\u001b[0m\u001b[0mi\u001b[0m \u001b[0;34m+\u001b[0m \u001b[0mk\u001b[0m\u001b[0;34m]\u001b[0m \u001b[0;34m*\u001b[0m \u001b[0msignal_2\u001b[0m\u001b[0;34m[\u001b[0m\u001b[0mk\u001b[0m\u001b[0;34m]\u001b[0m\u001b[0;34m\u001b[0m\u001b[0m\n\u001b[0m\u001b[1;32m      6\u001b[0m \u001b[0;32mprint\u001b[0m \u001b[0mcorrelation\u001b[0m\u001b[0;34m\u001b[0m\u001b[0m\n",
        "\u001b[0;31mIndexError\u001b[0m: index out of bounds"
       ]
      }
     ],
     "prompt_number": 225
    },
    {
     "cell_type": "code",
     "collapsed": false,
     "input": [],
     "language": "python",
     "metadata": {},
     "outputs": []
    }
   ],
   "metadata": {}
  }
 ]
}