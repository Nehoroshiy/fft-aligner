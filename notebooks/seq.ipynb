{
 "metadata": {
  "name": "",
  "signature": "sha256:a7636a1a5a4badb30038ae2148dcb5f9f0161de9ec4f9962fb17eabbcc143937"
 },
 "nbformat": 3,
 "nbformat_minor": 0,
 "worksheets": [
  {
   "cells": [
    {
     "cell_type": "code",
     "collapsed": false,
     "input": [
      "# \u043d\u0430\u0434\u043e \u0432\u044b\u0439\u0442\u0438 \u0432 \u043f\u0430\u043f\u043a\u0443 /Users/Const/PycharmProjects/bioinformatic, \u0442\u0430\u043c \u0432\u0441\u0435 \u0432\u0445\u043e\u0434\u043d\u044b\u0435 \u0444\u0430\u0439\u043b\u0438\u043a\u0438\n",
      "cd ..\n",
      "# \u043f\u0440\u043e\u0432\u0435\u0440\u043a\u0430\n",
      "pwd"
     ],
     "language": "python",
     "metadata": {},
     "outputs": [
      {
       "output_type": "stream",
       "stream": "stdout",
       "text": [
        "/Users/Const/PycharmProjects/bioinformatic\n"
       ]
      }
     ],
     "prompt_number": 3
    },
    {
     "cell_type": "code",
     "collapsed": false,
     "input": [
      "import numpy as np\n",
      "from numpy.fft import fft, ifft\n",
      "np.set_printoptions(suppress=True, linewidth=200)\n",
      "from scipy import signal\n",
      "import seaborn as sns\n",
      "from utils.seq import read_nucleotide_alphabet_and_matrix, print_aligned_seqences\n",
      "from bioalgo.smith_waterman import mtx_construct, way_back"
     ],
     "language": "python",
     "metadata": {},
     "outputs": [],
     "prompt_number": 73
    },
    {
     "cell_type": "code",
     "collapsed": false,
     "input": [
      "# \u0447\u0442\u043e\u0431\u044b \u0432\u0441\u0451 \u043d\u0430 \u0433\u0440\u0430\u0444\u0438\u043a\u0430\u0445 \u043a\u0440\u0443\u043f\u043d\u043e \u0431\u044b\u043b\u043e\n",
      "matplotlib.rcParams['text.latex.preamble'] = [r'\\usepackage{amsmath}' , r'\\usepackage[T1]{fontenc}'] \n",
      "rc('font', **{'family': 'serif', 'serif': ['Computer Modern'], 'size': 20})\n",
      "rc('text', usetex=True)\n",
      "rc('axes', **{'titlesize': 'xx-large', 'labelsize': 'xx-large'})\n",
      "rc('figure.subplot', **{'left': '0.05', 'right': '0.95', 'top': '0.95', 'bottom': '0.05'})\n",
      "rc('legend', **{'fontsize': 'large', 'fancybox': 'True'})\n",
      "rc('xtick', **{'labelsize': 'large'})\n",
      "rc('ytick', **{'labelsize': 'large'})"
     ],
     "language": "python",
     "metadata": {},
     "outputs": [],
     "prompt_number": 5
    },
    {
     "cell_type": "code",
     "collapsed": false,
     "input": [
      "def power_2_bound(v):\n",
      "    v -= 1\n",
      "    v |= v >> 1\n",
      "    v |= v >> 2\n",
      "    v |= v >> 4\n",
      "    v |= v >> 8\n",
      "    v |= v >> 16\n",
      "    return v + 1\n",
      "\n",
      "def fft_fast(a):\n",
      "    N = a.shape[0]\n",
      "\n",
      "    if N & (N - 1) != 0:\n",
      "        raise ValueError(\"size of x must be a power of 2\")\n",
      "\n",
      "    N_min = min(N, 32)\n",
      "\n",
      "    n = np.arange(N_min)\n",
      "    k = n[:, None]\n",
      "    M = np.exp(-2j * np.pi * n * k / N_min)\n",
      "    X = np.dot(M, a.reshape([N_min, -1]))\n",
      "\n",
      "    while X.shape[0] < N:\n",
      "        X_even = X[:, :X.shape[1] / 2]\n",
      "        X_odd = X[:, X.shape[1] / 2:]\n",
      "        factor = np.exp(-1j * np.pi * np.arange(X.shape[0])\n",
      "                        / X.shape[0])[:, None]\n",
      "        X = np.vstack([X_even + factor * X_odd,\n",
      "                       X_even - factor * X_odd])\n",
      "    return X.ravel()\n",
      "\n",
      "def ifft_fast(y):\n",
      "    N = y.shape[0]\n",
      "\n",
      "    if N & (N - 1) != 0:\n",
      "        raise ValueError(\"size of x must be a power of 2\")\n",
      "\n",
      "    N_min = min(N, 32)\n",
      "\n",
      "    n = np.arange(N_min)\n",
      "    k = n[:, None]\n",
      "    M = np.exp((2j * np.pi * n) * k / N_min) / N_min\n",
      "    X = np.dot(M, y.reshape([N_min, -1]))\n",
      "\n",
      "    n = np.arange(N_min)\n",
      "    while X.shape[0] < N:\n",
      "        X_even = X[:, :X.shape[1] / 2]\n",
      "        X_odd = X[:, X.shape[1] / 2:]\n",
      "        factor = np.exp(1j * np.pi * np.arange(X.shape[0])\n",
      "                        / X.shape[0])[:, None]\n",
      "        X = np.vstack([((X_even + factor * X_odd) / 2),\n",
      "                       (X_even - factor * X_odd) / 2])\n",
      "    return X.ravel()"
     ],
     "language": "python",
     "metadata": {},
     "outputs": [],
     "prompt_number": 75
    },
    {
     "cell_type": "code",
     "collapsed": false,
     "input": [
      "MAX_TEST_SIZE = 40\n",
      "# \u0447\u0438\u0442\u0430\u0435\u043c \u043a\u0430\u043a ascii-\u0431\u0430\u0439\u0442\u044b\n",
      "fseq = np.fromfile('seq_input_first',  dtype=np.int8, count=MAX_TEST_SIZE)\n",
      "sseq = np.fromfile('seq_input_second', dtype=np.int8, count=-1)"
     ],
     "language": "python",
     "metadata": {},
     "outputs": [],
     "prompt_number": 84
    },
    {
     "cell_type": "code",
     "collapsed": false,
     "input": [
      "# \u043f\u0440\u0435\u043e\u0431\u0440\u0430\u0437\u0443\u0435\u043c 'letter ascii-code' -> letter index in alphabet\n",
      "alphabet, score_matrix = read_nucleotide_alphabet_and_matrix('score_matrix_dna.txt')\n",
      "k = len(alphabet) - 1\n",
      "for i in xrange(k):\n",
      "    fseq[fseq == ord(alphabet[i])] = i\n",
      "for i in xrange(k):\n",
      "    sseq[sseq == ord(alphabet[i])] = i"
     ],
     "language": "python",
     "metadata": {},
     "outputs": [],
     "prompt_number": 85
    },
    {
     "cell_type": "code",
     "collapsed": false,
     "input": [
      "# \u0414\u043b\u044f \u043e\u0431\u0440\u0430\u0442\u043d\u043e\u0433\u043e \u043f\u0440\u0435\u043e\u0431\u0440\u0430\u0437\u043e\u0432\u0430\u043d\u0438\u044f \u0424\u0443\u0440\u044c\u0435 \u043f\u043e\u043d\u0430\u0434\u043e\u0431\u0438\u0442\u0441\u044f \u043a\u0430\u043a \u043c\u0438\u043d\u0438\u043c\u0443\u043c N + M - 1 \u043a\u043e\u044d\u0444\u0444\u0438\u0446\u0438\u0435\u043d\u0442\n",
      "N = fseq.size\n",
      "M = len(sseq)\n",
      "K = len(alphabet) - 1\n",
      "NS = N + M - 1\n",
      "# \u043d\u0430\u0448\u0430 fft_fast \u0438 ifft_fast \u0440\u0430\u0431\u043e\u0442\u0430\u0435\u0442 \u0442\u043e\u043b\u044c\u043a\u043e \u0434\u043b\u044f n = 2^k\n",
      "N2 = power_2_bound(NS)"
     ],
     "language": "python",
     "metadata": {},
     "outputs": [],
     "prompt_number": 86
    },
    {
     "cell_type": "code",
     "collapsed": false,
     "input": [
      "# \u0437\u0430\u043f\u043e\u043b\u043d\u044f\u0435\u043c \u0434\u043b\u044f fseq - \u043f\u0435\u0440\u0432\u044b\u0435 N \u0441\u0438\u043c\u0432\u043e\u043b\u043e\u0432 \u043d\u0435 0, \u043e\u0441\u0442\u0430\u043b\u044c\u043d\u044b\u0435 - 0\n",
      "# \u0437\u0430\u043f\u043e\u043b\u043d\u044f\u0435\u043c \u0434\u043b\u044f sseq - \u043f\u0435\u0440\u0432\u044b\u0435 N-1 \u0441\u0438\u043c\u0432\u043e\u043b - 0, M \u0441\u0438\u043c\u0432\u043e\u043b\u043e\u0432 N-1: N + M - 1 \u043d\u0435 0, \u043e\u0441\u0442\u0430\u043b\u044c\u043d\u044b\u0435 - 0\n",
      "# \u0444\u0438\u0433\u0430\u0447\u0438\u043c \u0441\u0432\u0451\u0440\u0442\u043a\u0443, \u0438\u0441\u043f\u043e\u043b\u044c\u0437\u0443\u044f \u0434\u043b\u044f \u043f\u0435\u0440\u0432\u043e\u0439 \u0441\u0442\u0440\u043e\u043a\u0438 \u043c\u0430\u0442\u0440\u0438\u0446\u0443 \u043f\u043e\u0445\u043e\u0436\u0435\u0441\u0442\u0438 \u0434\u043b\u044f \u0431\u0443\u043a\u0432, \u0430 \u0434\u043b\u044f \u0432\u0442\u043e\u0440\u043e\u0439 \u0441\u0442\u0440\u043e\u043a\u0438\n",
      "# \u043f\u0440\u043e\u0441\u0442\u043e \u0435\u0434\u0438\u043d\u0438\u0447\u043a\u0438 \u043d\u0430 \u043c\u0435\u0441\u0442\u0430\u0445, \u0433\u0434\u0435 \u0435\u0441\u0442\u044c \u043e\u043f\u0440\u0435\u0434\u0435\u043b\u0451\u043d\u043d\u0430\u044f \u0431\u0443\u043a\u0432\u0430\n",
      "fdata = np.zeros(N2, np.float)\n",
      "correlation = np.zeros(N2, np.float)\n",
      "sdata = np.zeros(N2, np.float)\n",
      "for i in xrange(K):\n",
      "    scoring_row = score_matrix[i]\n",
      "    for j in xrange(K):\n",
      "        fdata[fseq == j] = scoring_row[j]\n",
      "    sdata_view = sdata[N-1:N+M-1]\n",
      "    sdata_view[sseq == i] = 1\n",
      "    correlation += ifft_fast(np.conj(fft_fast(fdata)) * fft_fast(sdata)).real"
     ],
     "language": "python",
     "metadata": {},
     "outputs": [],
     "prompt_number": 87
    },
    {
     "cell_type": "code",
     "collapsed": false,
     "input": [
      "x_n = np.linspace(0, N2 - 1, N2)\n",
      "# \u041d\u0430\u043c \u0432\u0430\u0436\u043d\u044b \u043b\u0438\u0448\u044c N \u0437\u043d\u0430\u0447\u0435\u043d\u0438\u0439 \u043a\u0440\u043e\u0441\u0441-\u043a\u043e\u0440\u0440\u0435\u043b\u044f\u0446\u0438\u0438 (\u0438\u043b\u0438 \u0434\u0430\u0436\u0435 N - M, \u0442\u0430\u043a \u043a\u0430\u043a \u0447\u043e \u0442\u0430\u043c \u0434\u0430\u043b\u044c\u0448\u0435 \u0432\u044b\u0440\u0430\u0432\u043d\u0438\u0432\u0430\u0442\u044c-\u0442\u043e? :) )\n",
      "# + \u043a \u0442\u043e\u043c\u0443 \u0436\u0435 \u043e\u043d\u0430 \u0440\u0430\u0437\u0432\u0451\u0440\u043d\u0443\u0442\u0430 \u0432\u043e \u0432\u0440\u0435\u043c\u0435\u043d\u0438 (\u043e\u0442\u043d\u043e\u0441\u0438\u0442\u0435\u043b\u044c\u043d\u043e \u0442\u043e\u0433\u043e, \u0447\u0442\u043e \u043c\u044b \u0445\u043e\u0447\u0435\u043c), \u043c\u044b \u0435\u0451 \u0440\u0435\u0432\u0435\u0440\u0441\u043d\u0451\u043c \u0438 \u043f\u043e\u043b\u0443\u0447\u0438\u043c\n",
      "# \u043c\u0430\u0441\u0441\u0438\u0432 \u043e\u0442\u043e\u0431\u0440\u0430\u0436\u0435\u043d\u0438\u0439 (sseq shift) -> (similarity(fseq[shift: shift + sseq.size], sseq))\n",
      "c_norm = correlation[:N][::-1]\n",
      "# \u043d\u0430\u0440\u0438\u0441\u0443\u0435\u043c, \u0447\u0442\u043e\u0431 \u043d\u0430\u0433\u043b\u044f\u0434\u043d\u043e \u0431\u044b\u043b\u043e\n",
      "sns.plt.plot(x_n[:N], correlation[:N][::-1], '-')\n",
      "# \u043f\u043e\u0441\u043c\u043e\u0442\u0440\u0438\u043c \u043d\u0430 \u043d\u0430\u0438\u043b\u0443\u0447\u0448\u0438\u0435 \u0441\u043c\u0435\u0449\u0435\u043d\u0438\u044f\n",
      "delta_args = np.argsort(c_norm)[::-1][:10]\n",
      "print delta_args"
     ],
     "language": "python",
     "metadata": {},
     "outputs": [
      {
       "output_type": "stream",
       "stream": "stdout",
       "text": [
        "[20  4 34 24  9 25 28  2 15 39]\n"
       ]
      },
      {
       "metadata": {},
       "output_type": "display_data",
       "png": "[encoded data removed]",
       "text": [
        "<matplotlib.figure.Figure at 0x10b2ea650>"
       ]
      }
     ],
     "prompt_number": 88
    },
    {
     "cell_type": "code",
     "collapsed": false,
     "input": [
      "# \u043e\u0442\u0444\u0438\u043b\u044c\u0442\u0440\u0443\u0435\u043c \u0441\u043c\u0435\u0449\u0435\u043d\u0438\u044f (\u0435\u0441\u043b\u0438 \u0434\u0432\u0430 \u0441\u043b\u0438\u0448\u043a\u043e\u043c \u0431\u043b\u0438\u0437\u043a\u043e, \u0442\u043e \u0441\u043c\u044b\u0441\u043b\u0430 \u0438\u0445 \u043e\u0442\u0434\u0435\u043b\u044c\u043d\u043e \u0440\u0430\u0441\u0441\u043c\u0430\u0442\u0440\u0438\u0432\u0430\u0442\u044c \u043d\u0435\u0442)\n",
      "print 'initial best shifts:'\n",
      "print delta_args\n",
      "for delta_arg in delta_args:\n",
      "    if delta_arg != -1:\n",
      "        delta_args[(delta_args != delta_arg) & (np.abs(delta_args - delta_arg) < M)] = -1\n",
      "delta_args = delta_args[delta_args != -1]\n",
      "print 'filtered best shifts:'\n",
      "print delta_args"
     ],
     "language": "python",
     "metadata": {},
     "outputs": [
      {
       "output_type": "stream",
       "stream": "stdout",
       "text": [
        "initial best shifts:\n",
        "[20  4 34 24  9 25 28  2 15 39]\n",
        "filtered best shifts:\n",
        "[20  4 34]\n"
       ]
      }
     ],
     "prompt_number": 89
    },
    {
     "cell_type": "code",
     "collapsed": false,
     "input": [
      "max_score = -100000000\n",
      "for delta_arg in delta_args:\n",
      "    left_bound = max(delta_arg - M, 0)\n",
      "    right_bound = min(delta_arg + M, N)\n",
      "\n",
      "    search_region = fseq[left_bound: right_bound]\n",
      "    way_mtx = mtx_construct(search_region, sseq, score_matrix, -1)\n",
      "    way_max = way_mtx[-1].max()\n",
      "    a_test, shift_test = way_back(search_region, sseq, way_mtx, score_matrix, -1)\n",
      "    print 'peak at shift ' + str(left_bound + shift_test) + ' with score ' + str(way_max)\n",
      "    print 'associated alignment:'\n",
      "    print_aligned_seqences(fseq, sseq, alphabet, a_test, left_bound + shift_test)\n",
      "    print '*'*80\n",
      "    if way_max > max_score:\n",
      "        alignment, shift = way_back(search_region, sseq, way_mtx, score_matrix, -1)\n",
      "        max_score = way_max\n",
      "        max_shift = left_bound + shift"
     ],
     "language": "python",
     "metadata": {},
     "outputs": [
      {
       "output_type": "stream",
       "stream": "stdout",
       "text": [
        "peak at shift 20 with score 110\n",
        "associated alignment:\n",
        "actgccagcgtaggctagacccagcgtaggctagccagcg\n",
        "--------------------ccagcgtaggctag------\n",
        "********************************************************************************\n",
        "peak at shift 4 with score 110\n",
        "associated alignment:\n",
        "actgccagcgtaggctagacccagcgtaggctagccagcg\n",
        "----ccagcgtaggctag----------------------\n",
        "********************************************************************************\n",
        "peak at shift 20 with score 110\n",
        "associated alignment:\n",
        "actgccagcgtaggctagacccagcgtaggctagccagcg\n",
        "--------------------ccagcgtaggctag------\n",
        "********************************************************************************\n"
       ]
      }
     ],
     "prompt_number": 90
    },
    {
     "cell_type": "code",
     "collapsed": false,
     "input": [],
     "language": "python",
     "metadata": {},
     "outputs": [],
     "prompt_number": 82
    },
    {
     "cell_type": "code",
     "collapsed": false,
     "input": [],
     "language": "python",
     "metadata": {},
     "outputs": []
    }
   ],
   "metadata": {}
  }
 ]
}