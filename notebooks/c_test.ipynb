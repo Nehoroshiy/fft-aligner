{
 "worksheets": [
  {
   "cells": [
    {
     "cell_type": "code",
     "metadata": {},
     "outputs": [],
     "input": [
      "import numpy as np\n",
      "from numpy import dot\n",
      "import math\n",
      "from math import pi"
     ],
     "language": "python",
     "prompt_number": 1
    },
    {
     "cell_type": "code",
     "metadata": {},
     "outputs": [],
     "input": [
      ""
     ],
     "language": "python"
    }
   ]
  }
 ],
 "cells": [],
 "metadata": {
  "name": "",
  "signature": "sha256:17411f0ad1478705503daad5a99f76493a925704163f515f9b7d0336c8ad9770"
 },
 "nbformat": 3,
 "nbformat_minor": 0
}