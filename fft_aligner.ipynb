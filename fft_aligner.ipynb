{
 "metadata": {
  "name": "",
  "signature": "sha256:685ae2cd02c671ea2671f9e31d07112b50848c69de0266169b136a0e1a98cba6"
 },
 "nbformat": 3,
 "nbformat_minor": 0,
 "worksheets": [
  {
   "cells": [
    {
     "cell_type": "code",
     "collapsed": false,
     "input": [
      "import numpy as np\n",
      "from numpy import dot\n",
      "import math\n",
      "from math import pi\n",
      "from numpy.fft import fft, ifft\n",
      "import timeit\n",
      "import numexpr\n",
      "\n",
      "from matplotlib import pyplot as plt"
     ],
     "language": "python",
     "metadata": {},
     "outputs": [],
     "prompt_number": 69
    },
    {
     "cell_type": "code",
     "collapsed": false,
     "input": [
      "pwd"
     ],
     "language": "python",
     "metadata": {},
     "outputs": [
      {
       "metadata": {},
       "output_type": "pyout",
       "prompt_number": 2,
       "text": [
        "u'/Users/Const/PycharmProjects/bioinformatic'"
       ]
      }
     ],
     "prompt_number": 2
    },
    {
     "cell_type": "code",
     "collapsed": false,
     "input": [
      "ls"
     ],
     "language": "python",
     "metadata": {},
     "outputs": [
      {
       "output_type": "stream",
       "stream": "stdout",
       "text": [
        "\u001b[34mbioalgo\u001b[m\u001b[m/            example.py          fasta_test.py       input_sequence.txt  \u001b[34mutils\u001b[m\u001b[m/\r\n",
        "database.txt        \u001b[34mfasta\u001b[m\u001b[m/              fft_aligner.ipynb   scoring_matrix.txt\r\n"
       ]
      }
     ],
     "prompt_number": 3
    },
    {
     "cell_type": "code",
     "collapsed": false,
     "input": [
      "# This is preparing part. We define sequences, alphabet, charmap and score_matrix\n",
      "fstrseq = 'actgacgtactactgactactgacgtactgcaagtacgtcactgacgtactactgactactgacgtcgtacacgcgccagcgtagctactgactacactgcaagtacgtc'\n",
      "sstrseq = 'ccagcgtag'\n",
      "with open('score_matrix.txt') as f:\n",
      "    alphabet = f.readline()[:-1].split(' ')\n",
      "    alphabet.append('-')\n",
      "    print alphabet\n",
      "charmap = dict([(charkey, matrix_index) for matrix_index, charkey in enumerate(alphabet)])\n",
      "print charmap\n",
      "\n",
      "score_matrix = np.loadtxt('score_matrix.txt', skiprows=1)\n",
      "print score_matrix"
     ],
     "language": "python",
     "metadata": {},
     "outputs": [
      {
       "output_type": "stream",
       "stream": "stdout",
       "text": [
        "['a', 'c', 'g', 't', '-']\n",
        "{'a': 0, 'c': 1, '-': 4, 't': 3, 'g': 2}\n",
        "[[ 2. -1. -1. -1.]\n",
        " [-1.  2. -1. -1.]\n",
        " [-1. -1.  2. -1.]\n",
        " [-1. -1. -1.  2.]]\n"
       ]
      }
     ],
     "prompt_number": 85
    },
    {
     "cell_type": "code",
     "collapsed": false,
     "input": [
      "# This is data preparing part. We create K-dimensional vector (K is alphabet size) to prepare for correlation search.\n",
      "fseq = np.array([charmap[char] for char in fstrseq], dtype=np.int)\n",
      "N = fseq.size\n",
      "M = len(sstrseq)\n",
      "K = len(alphabet)\n",
      "sseq = np.zeros(N, dtype=np.int) - 1\n",
      "sseq[:M] = [charmap[char] for char in sstrseq]\n",
      "print fseq\n",
      "print sseq\n",
      "\n",
      "fdata = np.zeros([K, N])\n",
      "for i in xrange(K):\n",
      "    fdata[i, fseq == i] = 1\n",
      "print fdata\n",
      "\n",
      "sdata = np.zeros([K, N]) - 1\n",
      "for i in xrange(K):\n",
      "    sdata[i, sseq == i] = 1\n",
      "print sdata"
     ],
     "language": "python",
     "metadata": {},
     "outputs": [
      {
       "output_type": "stream",
       "stream": "stdout",
       "text": [
        "[0 1 3 2 0 1 2 3 0 1 3 0 1 3 2 0 1 3 0 1 3 2 0 1 2 3 0 1 3 2 1 0 0 2 3 0 1 2 3 1]\n",
        "[ 1  3  2  1  0  1  2  3 -1 -1 -1 -1 -1 -1 -1 -1 -1 -1 -1 -1 -1 -1 -1 -1 -1 -1 -1 -1 -1 -1 -1 -1 -1 -1 -1 -1 -1 -1 -1 -1]\n",
        "[[ 1.  0.  0.  0.  1.  0.  0.  0.  1.  0.  0.  1.  0.  0.  0.  1.  0.  0.  1.  0.  0.  0.  1.  0.  0.  0.  1.  0.  0.  0.  0.  1.  1.  0.  0.  1.  0.  0.  0.\n",
        "   0.]\n",
        " [ 0.  1.  0.  0.  0.  1.  0.  0.  0.  1.  0.  0.  1.  0.  0.  0.  1.  0.  0.  1.  0.  0.  0.  1.  0.  0.  0.  1.  0.  0.  1.  0.  0.  0.  0.  0.  1.  0.  0.\n",
        "   1.]\n",
        " [ 0.  0.  0.  1.  0.  0.  1.  0.  0.  0.  0.  0.  0.  0.  1.  0.  0.  0.  0.  0.  0.  1.  0.  0.  1.  0.  0.  0.  0.  1.  0.  0.  0.  1.  0.  0.  0.  1.  0.\n",
        "   0.]\n",
        " [ 0.  0.  1.  0.  0.  0.  0.  1.  0.  0.  1.  0.  0.  1.  0.  0.  0.  1.  0.  0.  1.  0.  0.  0.  0.  1.  0.  0.  1.  0.  0.  0.  0.  0.  1.  0.  0.  0.  1.\n",
        "   0.]\n",
        " [ 0.  0.  0.  0.  0.  0.  0.  0.  0.  0.  0.  0.  0.  0.  0.  0.  0.  0.  0.  0.  0.  0.  0.  0.  0.  0.  0.  0.  0.  0.  0.  0.  0.  0.  0.  0.  0.  0.  0.\n",
        "   0.]]\n",
        "[[-1. -1. -1. -1.  1. -1. -1. -1. -1. -1. -1. -1. -1. -1. -1. -1. -1. -1. -1. -1. -1. -1. -1. -1. -1. -1. -1. -1. -1. -1. -1. -1. -1. -1. -1. -1. -1. -1. -1.\n",
        "  -1.]\n",
        " [ 1. -1. -1.  1. -1.  1. -1. -1. -1. -1. -1. -1. -1. -1. -1. -1. -1. -1. -1. -1. -1. -1. -1. -1. -1. -1. -1. -1. -1. -1. -1. -1. -1. -1. -1. -1. -1. -1. -1.\n",
        "  -1.]\n",
        " [-1. -1.  1. -1. -1. -1.  1. -1. -1. -1. -1. -1. -1. -1. -1. -1. -1. -1. -1. -1. -1. -1. -1. -1. -1. -1. -1. -1. -1. -1. -1. -1. -1. -1. -1. -1. -1. -1. -1.\n",
        "  -1.]\n",
        " [-1.  1. -1. -1. -1. -1. -1.  1. -1. -1. -1. -1. -1. -1. -1. -1. -1. -1. -1. -1. -1. -1. -1. -1. -1. -1. -1. -1. -1. -1. -1. -1. -1. -1. -1. -1. -1. -1. -1.\n",
        "  -1.]\n",
        " [-1. -1. -1. -1. -1. -1. -1. -1. -1. -1. -1. -1. -1. -1. -1. -1. -1. -1. -1. -1. -1. -1. -1. -1. -1. -1. -1. -1. -1. -1. -1. -1. -1. -1. -1. -1. -1. -1. -1.\n",
        "  -1.]]\n"
       ]
      }
     ],
     "prompt_number": 206
    },
    {
     "cell_type": "code",
     "collapsed": false,
     "input": [
      "correlation = np.zeros(N)\n",
      "for i in xrange(K):\n",
      "    correlation += ifft(np.conj(fft(fdata[i])) * fft(sdata[i]))\n",
      "print correlation.real\n",
      "print correlation.imag\n",
      "\n",
      "delta = correlation.argmax()\n",
      "sseq[N - delta:N - delta + M] = sseq[:M]\n",
      "print sseq[N - delta: N - delta + M]\n",
      "sseq[:N - delta] = -1\n",
      "print fseq[N - delta: N - delta + M]\n",
      "print sseq[N - delta: N - delta + M]"
     ],
     "language": "python",
     "metadata": {},
     "outputs": [
      {
       "output_type": "stream",
       "stream": "stdout",
       "text": [
        "[-32. -38. -38. -36. -32. -36. -38. -36. -40. -30. -38. -40. -38. -26. -40. -38. -36. -36. -34. -38. -38. -34. -32. -40. -34. -38. -36. -36. -34. -36. -38. -34.\n",
        " -38. -36. -34. -38. -34. -38. -38. -34.]\n",
        "[ 0.  0.  0.  0.  0.  0.  0.  0.  0.  0.  0.  0.  0.  0.  0.  0.  0.  0.  0.  0.  0.  0.  0.  0.  0.  0.  0.  0.  0.  0.  0.  0.  0.  0.  0.  0.  0.  0.  0.  0.]\n",
        "[1 3 2 1 0 1 2 3]\n",
        "[1 3 2 1 0 0 2 3]\n",
        "[1 3 2 1 0 1 2 3]\n"
       ]
      }
     ],
     "prompt_number": 207
    },
    {
     "cell_type": "code",
     "collapsed": false,
     "input": [
      "print sseq\n",
      "\n",
      "fresult = ''.join(alphabet[charmap] for charmap in fseq)\n",
      "sresult = ''.join(alphabet[charmap] for charmap in sseq)\n",
      "\n",
      "print fresult\n",
      "print sresult"
     ],
     "language": "python",
     "metadata": {},
     "outputs": [
      {
       "output_type": "stream",
       "stream": "stdout",
       "text": [
        "[-1 -1 -1 -1 -1 -1 -1 -1 -1 -1 -1 -1 -1 -1 -1 -1 -1 -1 -1 -1 -1 -1 -1 -1 -1 -1 -1  1  3  2  1  0  1  2  3 -1 -1 -1 -1 -1]\n",
        "actgacgtactactgactactgacgtactgcaagtacgtc\n",
        "---------------------------ctgcacgt-----\n"
       ]
      }
     ],
     "prompt_number": 208
    },
    {
     "cell_type": "code",
     "collapsed": false,
     "input": [],
     "language": "python",
     "metadata": {},
     "outputs": [],
     "prompt_number": 231
    },
    {
     "cell_type": "code",
     "collapsed": false,
     "input": [
      "# This is data preparing part. We create K-dimensional vector (K is alphabet size) to prepare for correlation search.\n",
      "fseq = np.fromfile('seq_input_first',  dtype=np.int8, count=-1)\n",
      "sseq = np.fromfile('seq_input_second', dtype=np.int8, count=-1)\n",
      "N = fseq.size\n",
      "M = len(sseq)\n",
      "K = len(alphabet) - 1\n",
      "\n",
      "for i in xrange(K):\n",
      "    print ord(alphabet[i])\n",
      "    fseq[fseq == ord(alphabet[i])] = i\n",
      "for i in xrange(K):\n",
      "    sseq[sseq == ord(alphabet[i])] = i\n",
      "print 'fseq:', fseq\n",
      "print 'sseq:', sseq\n",
      "\n",
      "\n",
      "vlambda = np.vectorize(lambda x: scoring_row[x])\n",
      "\n",
      "fdata = np.zeros(N)\n",
      "correlation = np.zeros(N)\n",
      "sdata = np.zeros(N)\n",
      "for i in xrange(K):\n",
      "    scoring_row = score_matrix[i]\n",
      "    for j in xrange(K):\n",
      "        fdata[fseq == j] = scoring_row[j]\n",
      "    sdata_view = sdata[:M]\n",
      "    sdata_view[sseq == i] = 1\n",
      "    correlation += ifft(np.conj(fft(fdata)) * fft(sdata))"
     ],
     "language": "python",
     "metadata": {},
     "outputs": [
      {
       "output_type": "stream",
       "stream": "stdout",
       "text": [
        "97\n",
        "99\n",
        "103\n",
        "116\n",
        "fseq: [0 1 3 2 0 1 2 3 0 1 3 0 1 3 2 0 1 3 0 1 3 2 0 1 2 3 0 1 3 2 1 0 0 2 3 0 1\n",
        " 2 3 1 0 1 3 2 0 1 2 3 0 1 3 0 1 3 2 0 1 3 0 1 3 2 0 1 2 3 1 2 3 0 1 0 1 2\n",
        " 1 2 1 1 0 2 1 2 3 0 2 1 3 0 1 3 2 0 1 3 0 1 0 1 3 2 1 0 0 2 3 0 1 2 3 1]\n",
        "sseq: [1 1 0 2 1 2 3 0 2 1 3 0 2]\n"
       ]
      }
     ],
     "prompt_number": 101
    },
    {
     "cell_type": "code",
     "collapsed": false,
     "input": [],
     "language": "python",
     "metadata": {},
     "outputs": [],
     "prompt_number": 32
    },
    {
     "cell_type": "code",
     "collapsed": false,
     "input": [
      "L = 1\n",
      "delta = correlation.argmax()\n",
      "deltas = np.argsort(correlation)[::-1][:L]\n",
      "deltas = deltas[deltas >= M]\n",
      "print N\n",
      "print deltas\n",
      "sdata[N - delta:N - delta + M] = sseq[:]\n",
      "print sdata[N - delta: N - delta + M]\n",
      "sdata[:N - delta] = -1\n",
      "sdata[N - delta + M:] = -1\n",
      "print fseq[N - delta: N - delta + M]\n",
      "print sdata[N - delta: N - delta + M]"
     ],
     "language": "python",
     "metadata": {},
     "outputs": [
      {
       "output_type": "stream",
       "stream": "stdout",
       "text": [
        "110\n",
        "[34]\n",
        "[ 1.  1.  0.  2.  1.  2.  3.  0.  2.  1.  3.  0.  2.]\n",
        "[1 1 0 2 1 2 3 0 2 1 3 0 1]\n",
        "[ 1.  1.  0.  2.  1.  2.  3.  0.  2.  1.  3.  0.  2.]\n"
       ]
      }
     ],
     "prompt_number": 102
    },
    {
     "cell_type": "code",
     "collapsed": false,
     "input": [
      "fresult = ''.join(alphabet[charcode] for charcode in fseq)\n",
      "sbuff = np.zeros(N, dtype=int8)\n",
      "for d in deltas:\n",
      "    sbuff[:] = -1\n",
      "    sbuff[N - d:N - d + M] = sseq[:]\n",
      "    sresult = ''.join(alphabet[charcode] for charcode in sbuff)\n",
      "    print fresult\n",
      "    print sresult\n",
      "    print 'correlation:', correlation[d]\n",
      "    print '*'*80"
     ],
     "language": "python",
     "metadata": {},
     "outputs": [
      {
       "output_type": "stream",
       "stream": "stdout",
       "text": [
        "actgacgtactactgactactgacgtactgcaagtacgtcactgacgtactactgactactgacgtcgtacacgcgccagcgtagctactgactacactgcaagtacgtc\n",
        "----------------------------------------------------------------------------ccagcgtagctag---------------------\n",
        "correlation: 2.0\n",
        "********************************************************************************\n"
       ]
      }
     ],
     "prompt_number": 103
    },
    {
     "cell_type": "code",
     "collapsed": false,
     "input": [
      "np.set_printoptions(suppress=True, linewidth = 160)\n",
      "\n",
      "n = 20\n",
      "fvalues = np.array([1, 1, 1, 1, 1, 1, 0, 0, 0, 0, 0, 0, 0, 0, 0, 0, 0, 0, 0, 0])\n",
      "svalues = np.array([0, 0, -1, -1, 1, 0, 1, -1, 1, 1, 1, 0, -1, -1, -1, 0, -1, -1, 0, 1])\n",
      "#svalues = np.zeros(20)\n",
      "#svalues[11:16] = 1.0\n",
      "delta = 7\n",
      "fvalues[4:4 + 3] = 10\n",
      "svalues[4 + delta:4 + delta + 3] = 10\n",
      "correlation = ifft(np.conj(fft(fvalues)) * fft(svalues))\n",
      "print correlation\n",
      "print fvalues\n",
      "print svalues\n",
      "x = arange(fvalues.size)\n",
      "\n",
      "plt.plot(x, fvalues, '.r')\n",
      "plt.plot(x, svalues, '.b')\n",
      "plt.plot(x, correlation.real, '.g')"
     ],
     "language": "python",
     "metadata": {},
     "outputs": [
      {
       "output_type": "stream",
       "stream": "stdout",
       "text": [
        "[  18.-0.j   -1.-0.j    9.+0.j   11.-0.j   31.-0.j  121.-0.j  212.+0.j  302.+0.j  203.+0.j  112.+0.j   11.-0.j    9.-0.j   -1.-0.j    8.-0.j    7.-0.j    8.-0.j\n",
        "  -11.+0.j  -20.-0.j   -9.-0.j   -0.-0.j]\n",
        "[ 1  1  1  1 10 10 10  0  0  0  0  0  0  0  0  0  0  0  0  0]\n",
        "[ 0  0 -1 -1  1  0  1 -1  1  1  1 10 10 10 -1  0 -1 -1  0  1]\n"
       ]
      },
      {
       "metadata": {},
       "output_type": "pyout",
       "prompt_number": 61,
       "text": [
        "[<matplotlib.lines.Line2D at 0x10af6e690>]"
       ]
      },
      {
       "metadata": {},
       "output_type": "display_data",
       "png": "[encoded data removed]",
       "text": [
        "<matplotlib.figure.Figure at 0x10aaf7650>"
       ]
      }
     ],
     "prompt_number": 61
    },
    {
     "cell_type": "code",
     "collapsed": false,
     "input": [
      "from scipy import signal"
     ],
     "language": "python",
     "metadata": {},
     "outputs": [],
     "prompt_number": 45
    },
    {
     "cell_type": "code",
     "collapsed": false,
     "input": [
      "np.set_printoptions(suppress=True, linewidth = 160)\n",
      "\n",
      "n = 20\n",
      "fvalues = np.array([1, 1, 10, 10, 10, 1, -1, -1, -1, -1, -1, 0, -1, -1, -1, 0, -1, -1, -1, 1])\n",
      "svalues = np.array([0, 0, -1, -1, 1, 0, 1, -1, 1, 1, 1, 0, -1, -1, -1, 0, -1, -1, 0, 1])\n",
      "svalues = np.zeros(n * 2)\n",
      "svalues[11:11 + 5] = fvalues[:5].copy()\n",
      "\n",
      "c = signal.fftconvolve(svalues, fvalues[::-1], mode='valid')\n",
      "print 'Convolve: ', c\n",
      "\n",
      "d = numpy.correlate(fvalues, fvalues, mode='same')\n",
      "print 'corr:', d\n",
      "\n",
      "numpy.allclose(c[:-1], d) # Should be True\n",
      "\n",
      "#plt.plot(x, fvalues, '.r')\n",
      "#plt.plot(x, svalues, '.b')\n",
      "#plt.plot(x, correlation.real, '.g')"
     ],
     "language": "python",
     "metadata": {},
     "outputs": [
      {
       "output_type": "stream",
       "stream": "stdout",
       "text": [
        "Convolve:  [ -21.  -31.  -22.  -22.  -22.  -32.  -30.  -19.   10.  120.  221.  302.  211.  120.   20.   10.   -0.   -0.   -0.   -0.    0.]\n",
        "corr: [-29 -21 -19 -20 -28 -27 -13  14 125 227 315 227 125  14 -13 -27 -28 -20 -19 -21]\n"
       ]
      },
      {
       "metadata": {},
       "output_type": "pyout",
       "prompt_number": 53,
       "text": [
        "False"
       ]
      }
     ],
     "prompt_number": 53
    },
    {
     "cell_type": "code",
     "collapsed": false,
     "input": [
      "def fft_fast(a):\n",
      "    N = a.shape[0]\n",
      "    \n",
      "    if N & (N - 1) != 0:\n",
      "        raise ValueError(\"size of x must be a power of 2\")\n",
      "    \n",
      "    N_min = min(N, 32)\n",
      "    \n",
      "    n = np.arange(N_min)\n",
      "    k = n[:, None]\n",
      "    M = np.exp(-2j * np.pi * n * k / N_min)\n",
      "    X = np.dot(M, a.reshape([N_min, -1]))\n",
      "    \n",
      "    n = np.arange(N_min)\n",
      "    while X.shape[0] < N:\n",
      "        X_even = X[:, :X.shape[1] / 2]\n",
      "        X_odd = X[:, X.shape[1] / 2:]\n",
      "        factor = np.exp(-1j * np.pi * np.arange(X.shape[0])\n",
      "                        / X.shape[0])[:, None]\n",
      "        X = np.vstack([X_even + factor * X_odd,\n",
      "                       X_even - factor * X_odd])\n",
      "    return X.ravel()\n",
      "\n",
      "def ifft_fast(y):\n",
      "    N = y.shape[0]\n",
      "    \n",
      "    if N & (N - 1) != 0:\n",
      "        raise ValueError(\"size of x must be a power of 2\")\n",
      "    \n",
      "    N_min = min(N, 32)\n",
      "    \n",
      "    n = np.arange(N_min)\n",
      "    k = n[:, None]\n",
      "    #T = np.exp(-2j * np.pi * n * k / N_min)\n",
      "    #M = np.conj(T / N_min)\n",
      "    M = np.exp((2j * np.pi * n) * k / N_min) / N_min\n",
      "    X = np.dot(M, y.reshape([N_min, -1]))\n",
      "    \n",
      "    n = np.arange(N_min)\n",
      "    while X.shape[0] < N:\n",
      "        X_even = X[:, :X.shape[1] / 2]\n",
      "        X_odd = X[:, X.shape[1] / 2:]\n",
      "        factor = np.exp(1j * np.pi * np.arange(X.shape[0])\n",
      "                        / X.shape[0])[:, None]\n",
      "        X = np.vstack([((X_even + factor * X_odd) / 2),\n",
      "                       (X_even - factor * X_odd) / 2])\n",
      "    return X.ravel()\n",
      "\n",
      "\n",
      "def fft_fast_real(a):\n",
      "    N = a.shape[0]\n",
      "    \n",
      "    if N & (N - 1) != 0:\n",
      "        raise ValueError(\"size of x must be a power of 2\")\n",
      "    \n",
      "    N_min = min(N, 32)\n",
      "    \n",
      "    n = np.arange(N_min)\n",
      "    k = n[:, None]\n",
      "    M = np.exp(2j * np.pi * n * k / N_min)\n",
      "    X = np.dot(M, a.reshape([N_min, -1]))\n",
      "    \n",
      "    n = np.arange(N_min)\n",
      "    while X.shape[0] < N:\n",
      "        X_even = X[:, :X.shape[1] / 2]\n",
      "        X_odd = X[:, X.shape[1] / 2:]\n",
      "        factor = np.exp(j * np.pi * np.arange(X.shape[0])\n",
      "                        / X.shape[0])[:, None]\n",
      "        X = np.vstack([X_even + factor * X_odd,\n",
      "                       X_even - factor * X_odd])\n",
      "    return X.ravel()\n",
      "\n",
      "def ifft_fast_real(y):\n",
      "    N = y.shape[0]\n",
      "    \n",
      "    if N & (N - 1) != 0:\n",
      "        raise ValueError(\"size of x must be a power of 2\")\n",
      "    \n",
      "    N_min = min(N, 32)\n",
      "    \n",
      "    n = np.arange(N_min)\n",
      "    k = n[:, None]\n",
      "    #T = np.exp(-2j * np.pi * n * k / N_min)\n",
      "    #M = np.conj(T / N_min)\n",
      "    M = np.exp((2j * np.pi * n) * k / N_min) / N_min\n",
      "    X = np.dot(M, y.reshape([N_min, -1]))\n",
      "    \n",
      "    n = np.arange(N_min)\n",
      "    while X.shape[0] < N:\n",
      "        X_even = X[:, :X.shape[1] / 2]\n",
      "        X_odd = X[:, X.shape[1] / 2:]\n",
      "        factor = np.exp(-1j * np.pi * np.arange(X.shape[0])\n",
      "                        / X.shape[0])[:, None]\n",
      "        X = np.vstack([((X_even + factor * X_odd) / 2),\n",
      "                       (X_even - factor * X_odd) / 2])\n",
      "    return X.ravel()"
     ],
     "language": "python",
     "metadata": {},
     "outputs": [],
     "prompt_number": 116
    },
    {
     "cell_type": "code",
     "collapsed": false,
     "input": [
      "print ifft_fast(fft_fast(np.array([i + 1 for i in xrange(1024)])))"
     ],
     "language": "python",
     "metadata": {},
     "outputs": [
      {
       "output_type": "stream",
       "stream": "stdout",
       "text": [
        "[    1.-0.j     2.-0.j     3.-0.j ...,  1022.+0.j  1023.+0.j  1024.+0.j]\n"
       ]
      }
     ],
     "prompt_number": 119
    },
    {
     "cell_type": "code",
     "collapsed": false,
     "input": [],
     "language": "python",
     "metadata": {},
     "outputs": [
      {
       "output_type": "stream",
       "stream": "stdout",
       "text": [
        "[  1.   0.   2.   0.   3.   0.   4.   0.   5.   0.   6.   0.   7.   0.   8.   0.   9.   0.  10.   0.  11.   0.  12.   0.  13.   0.  14.   0.  15.   0.  16.   0.\n",
        "  17.   0.  18.   0.  19.   0.  20.   0.  21.   0.  22.   0.  23.   0.  24.   0.  25.   0.  26.   0.  27.   0.  28.   0.  29.   0.  30.   0.  31.   0.  32.   0.\n",
        "  33.   0.  34.   0.  35.   0.  36.   0.  37.   0.  38.   0.  39.   0.  40.   0.  41.   0.  42.   0.  43.   0.  44.   0.  45.   0.  46.   0.  47.   0.  48.   0.\n",
        "  49.   0.  50.   0.  51.   0.  52.   0.  53.   0.  54.   0.  55.   0.  56.   0.  57.   0.  58.   0.  59.   0.  60.   0.  61.   0.  62.   0.  63.   0.  64.   0.]\n"
       ]
      }
     ],
     "prompt_number": 94
    },
    {
     "cell_type": "code",
     "collapsed": false,
     "input": [
      "print fstrseq"
     ],
     "language": "python",
     "metadata": {},
     "outputs": [
      {
       "output_type": "stream",
       "stream": "stdout",
       "text": [
        "actgacgtactactgactactgacgtactgcaagtacgtcactgacgtactactgactactgacgtcgtacacgcgccagcgtagctactgactacactgcaagtacgtc\n"
       ]
      }
     ],
     "prompt_number": 16
    },
    {
     "cell_type": "code",
     "collapsed": false,
     "input": [
      "big_seq = fstrseq*500000"
     ],
     "language": "python",
     "metadata": {},
     "outputs": [],
     "prompt_number": 17
    },
    {
     "cell_type": "code",
     "collapsed": false,
     "input": [
      "len(big_seq)"
     ],
     "language": "python",
     "metadata": {},
     "outputs": [
      {
       "metadata": {},
       "output_type": "pyout",
       "prompt_number": 18,
       "text": [
        "55000000"
       ]
      }
     ],
     "prompt_number": 18
    },
    {
     "cell_type": "code",
     "collapsed": false,
     "input": [
      "with open('big_seq_input_first', 'w') as bf:\n",
      "    bf.write(big_seq)"
     ],
     "language": "python",
     "metadata": {},
     "outputs": [],
     "prompt_number": 19
    },
    {
     "cell_type": "code",
     "collapsed": false,
     "input": [
      "vl = np.vectorize(lambda char: charmap[chr(char)])"
     ],
     "language": "python",
     "metadata": {},
     "outputs": [],
     "prompt_number": 20
    },
    {
     "cell_type": "code",
     "collapsed": false,
     "input": [
      "#%timeit np.fromfile('big_seq_input_first',  dtype=np.int8, count=-1)\n",
      "data_big = np.fromfile('big_seq_input_first',  dtype=np.int8, count=-1)\n",
      "data_big[-1]"
     ],
     "language": "python",
     "metadata": {},
     "outputs": [
      {
       "metadata": {},
       "output_type": "pyout",
       "prompt_number": 70,
       "text": [
        "99"
       ]
      }
     ],
     "prompt_number": 70
    },
    {
     "cell_type": "code",
     "collapsed": false,
     "input": [
      "%timeit data_big[data_big == ord('a')] = 0\n",
      "%timeit data_big[data_big == ord('c')] = 1\n",
      "%timeit data_big[data_big == ord('g')] = 2\n",
      "%timeit data_big[data_big == ord('t')] = 3"
     ],
     "language": "python",
     "metadata": {},
     "outputs": [
      {
       "output_type": "stream",
       "stream": "stdout",
       "text": [
        "10 loops, best of 3: 111 ms per loop\n",
        "1 loops, best of 3: 115 ms per loop"
       ]
      },
      {
       "output_type": "stream",
       "stream": "stdout",
       "text": [
        "\n",
        "1 loops, best of 3: 110 ms per loop"
       ]
      },
      {
       "output_type": "stream",
       "stream": "stdout",
       "text": [
        "\n",
        "1 loops, best of 3: 112 ms per loop"
       ]
      },
      {
       "output_type": "stream",
       "stream": "stdout",
       "text": [
        "\n"
       ]
      }
     ],
     "prompt_number": 61
    },
    {
     "cell_type": "code",
     "collapsed": false,
     "input": [
      "conv\n",
      "numexpr.evaluate(\"data_big[data_big == rd] = 0\")\n"
     ],
     "language": "python",
     "metadata": {},
     "outputs": [
      {
       "ename": "SyntaxError",
       "evalue": "invalid syntax (<expr>, line 1)",
       "output_type": "pyerr",
       "traceback": [
        "\u001b[0;36m  File \u001b[0;32m\"<expr>\"\u001b[0;36m, line \u001b[0;32m1\u001b[0m\n\u001b[0;31m    data_big[data_big == rd] = 0\u001b[0m\n\u001b[0m                             ^\u001b[0m\n\u001b[0;31mSyntaxError\u001b[0m\u001b[0;31m:\u001b[0m invalid syntax\n"
       ]
      }
     ],
     "prompt_number": 77
    },
    {
     "cell_type": "code",
     "collapsed": false,
     "input": [],
     "language": "python",
     "metadata": {},
     "outputs": []
    },
    {
     "cell_type": "code",
     "collapsed": false,
     "input": [
      "%timeit vl(data_big)\n",
      "%timeit np.array([charmap[chr(char)] for char in data_big])"
     ],
     "language": "python",
     "metadata": {},
     "outputs": [
      {
       "output_type": "stream",
       "stream": "stdout",
       "text": [
        "1 loops, best of 3: 22.5 s per loop\n",
        "1 loops, best of 3: 25.8 s per loop"
       ]
      },
      {
       "output_type": "stream",
       "stream": "stdout",
       "text": [
        "\n"
       ]
      }
     ],
     "prompt_number": 23
    },
    {
     "cell_type": "code",
     "collapsed": false,
     "input": [],
     "language": "python",
     "metadata": {},
     "outputs": [
      {
       "ename": "TypeError",
       "evalue": "'module' object is not callable",
       "output_type": "pyerr",
       "traceback": [
        "\u001b[0;31m---------------------------------------------------------------------------\u001b[0m\n\u001b[0;31mTypeError\u001b[0m                                 Traceback (most recent call last)",
        "\u001b[0;32m<ipython-input-11-1b86e1b63abe>\u001b[0m in \u001b[0;36m<module>\u001b[0;34m()\u001b[0m\n\u001b[0;32m----> 1\u001b[0;31m \u001b[0mnumpy\u001b[0m\u001b[0;34m.\u001b[0m\u001b[0mchar\u001b[0m\u001b[0;34m(\u001b[0m\u001b[0;36m97\u001b[0m\u001b[0;34m)\u001b[0m\u001b[0;34m\u001b[0m\u001b[0m\n\u001b[0m",
        "\u001b[0;31mTypeError\u001b[0m: 'module' object is not callable"
       ]
      }
     ],
     "prompt_number": 11
    },
    {
     "cell_type": "code",
     "collapsed": false,
     "input": [],
     "language": "python",
     "metadata": {},
     "outputs": [],
     "prompt_number": 68
    },
    {
     "cell_type": "code",
     "collapsed": false,
     "input": [],
     "language": "python",
     "metadata": {},
     "outputs": [],
     "prompt_number": 67
    },
    {
     "cell_type": "code",
     "collapsed": false,
     "input": [
      "from mpl_toolkits.mplot3d import Axes3D\n",
      "import matplotlib.pyplot as plt"
     ],
     "language": "python",
     "metadata": {},
     "outputs": [],
     "prompt_number": 78
    },
    {
     "cell_type": "code",
     "collapsed": false,
     "input": [],
     "language": "python",
     "metadata": {},
     "outputs": []
    }
   ],
   "metadata": {}
  }
 ]
}